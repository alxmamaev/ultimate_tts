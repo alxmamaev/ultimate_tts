{
    "cells": [
        {
            "cell_type": "code",
            "execution_count": 11,
            "source": [
                "from ultimate_tts.utils.corpus.readers import read_ljspeech\n",
                "from ultimate_tts.utils.corpus import Corpus, Token, Symbol, Transcription\n",
                "from nltk.tokenize import wordpunct_tokenize"
            ],
            "outputs": [],
            "metadata": {}
        },
        {
            "cell_type": "code",
            "execution_count": 12,
            "source": [
                "transcriptions = read_ljspeech(\"./downloads/metadata.csv\", wordpunct_tokenize)"
            ],
            "outputs": [],
            "metadata": {}
        },
        {
            "cell_type": "code",
            "execution_count": 13,
            "source": [
                "from ultimate_tts.utils.text.transforms import LowerCaseTransform, VocabCleanerTransform, G2PTransform"
            ],
            "outputs": [],
            "metadata": {}
        },
        {
            "cell_type": "code",
            "execution_count": 14,
            "source": [
                "vocab = list(\"абвгдеёжзийклмнопрстуфхцчшщъыьэюя\")\n",
                "\n",
                "lowercase_transform = LowerCaseTransform()\n",
                "vocab_transform = VocabCleanerTransform(vocab)\n",
                "g2p_transform = G2PTransform()"
            ],
            "outputs": [],
            "metadata": {}
        },
        {
            "cell_type": "code",
            "execution_count": 15,
            "source": [
                "batch = transcriptions[:10]"
            ],
            "outputs": [],
            "metadata": {}
        },
        {
            "cell_type": "code",
            "execution_count": 17,
            "source": [
                "batch = lowercase_transform(batch)\n",
                "batch = vocab_transform(batch)"
            ],
            "outputs": [],
            "metadata": {}
        },
        {
            "cell_type": "code",
            "execution_count": 21,
            "source": [
                "output = g2p_transform(batch)"
            ],
            "outputs": [],
            "metadata": {}
        },
        {
            "cell_type": "code",
            "execution_count": 27,
            "source": [
                "output[0]"
            ],
            "outputs": [
                {
                    "output_type": "execute_result",
                    "data": {
                        "text/plain": [
                            "Transcription(filename=75011c509a84b70909a2716464eef4c3, speaker_id=None, tokens=[Token(graphemes=\"это\", phones=\"E0TA\"), Token(graphemes=\"довольно\", phones=\"DAVO0L0NA\"), Token(graphemes=\"любопытно\", phones=\"L0UBAPY0TNA\"), Token(graphemes=\"потому\", phones=\"PATAMU0\"), Token(graphemes=\"что\", phones=\"SHTO0\"), Token(graphemes=\"если\", phones=\"J0E0SL0I\"), Token(graphemes=\"мы\", phones=\"MY0\"), Token(graphemes=\"даже\", phones=\"DA0ZHY\"), Token(graphemes=\"захотим\", phones=\"ZAKHAT0I0M\"), Token(graphemes=\"пойти\", phones=\"PAJ0T0I0\"), Token(graphemes=\"и\", phones=\"I\"), Token(graphemes=\"проверить\", phones=\"PRAV0E0R0IT0\"), Token(graphemes=\"что\", phones=\"SHTO0\"), Token(graphemes=\"там\", phones=\"TA0M\"), Token(graphemes=\"написано\", phones=\"NAP0I0SANA\"), Token(graphemes=\"мы\", phones=\"MY0\"), Token(graphemes=\"не\", phones=\"N0I\"), Token(graphemes=\"сможем\", phones=\"SMO0ZHYM\"), Token(graphemes=\"потому\", phones=\"PATAMU0\"), Token(graphemes=\"что\", phones=\"SHTO0\"), Token(graphemes=\"ватикан\", phones=\"VAT0IKAN\"), Token(graphemes=\"сегодня\", phones=\"S0IVO0DN0A\"), Token(graphemes=\"закрыт\", phones=\"ZAKRY0T\"), Token(graphemes=\"для\", phones=\"DL0A\"), Token(graphemes=\"посещения\", phones=\"PAS0ISH0E0N0IJ0A\")]"
                        ]
                    },
                    "metadata": {},
                    "execution_count": 27
                }
            ],
            "metadata": {}
        },
        {
            "cell_type": "code",
            "execution_count": null,
            "source": [],
            "outputs": [],
            "metadata": {}
        }
    ],
    "metadata": {
        "orig_nbformat": 4,
        "language_info": {
            "name": "python",
            "version": "3.7.10",
            "mimetype": "text/x-python",
            "codemirror_mode": {
                "name": "ipython",
                "version": 3
            },
            "pygments_lexer": "ipython3",
            "nbconvert_exporter": "python",
            "file_extension": ".py"
        },
        "kernelspec": {
            "name": "python3",
            "display_name": "Python 3.7.10 64-bit ('ultimate_tts': conda)"
        },
        "interpreter": {
            "hash": "f65e8e0efeada06d808402b98ccfd8d2c4f1578826eee32a7aa0d873fe7a8705"
        }
    },
    "nbformat": 4,
    "nbformat_minor": 2
}